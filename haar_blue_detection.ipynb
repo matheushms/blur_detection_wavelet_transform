{
 "cells": [
  {
   "cell_type": "code",
   "execution_count": 1,
   "metadata": {},
   "outputs": [],
   "source": [
    "import pywt\n",
    "import numpy as np\n",
    "import matplotlib.pyplot as plt\n",
    "import cv2"
   ]
  },
  {
   "cell_type": "code",
   "execution_count": 3,
   "metadata": {},
   "outputs": [],
   "source": [
    "def Emax(img, l = 3):\n",
    "    Emaxs = []\n",
    "    imgarr = np.copy(img)\n",
    "    for i in range(0,l):\n",
    "        coeffs2 = pywt.dwt2(imgarr, 'haar')\n",
    "        LL, (LH, HL, HH) = coeffs2\n",
    "        imgarr = LL\n",
    "        Emax = np.sqrt( LH**2 + HL**2 + HH**2 )\n",
    "        Emaxs.append(Emax)\n",
    "    return Emaxs\n",
    "def edges_points(emaxs_o,thr):\n",
    "    edges = []\n",
    "    emaxs = np.copy(emaxs_o)\n",
    "    for emax in emaxs:\n",
    "        emax[emax<thr] = 0\n",
    "        emax[emax>=thr] = 1\n",
    "        edges.append(emax)\n",
    "    \n",
    "    return edges"
   ]
  },
  {
   "cell_type": "code",
   "execution_count": 8,
   "metadata": {},
   "outputs": [],
   "source": [
    "import PIL\n",
    "from PIL import Image\n",
    "def open_img(path):\n",
    "    img = PIL.Image.open(path).convert(\"L\")\n",
    "    return np.array(img) "
   ]
  },
  {
   "cell_type": "code",
   "execution_count": 9,
   "metadata": {},
   "outputs": [],
   "source": [
    "def OR(edges):\n",
    "    aux = np.copy(edges)\n",
    "    result = edges[0]\n",
    "    for edge in edges[1:]:\n",
    "        result = np.array(np.logical_or(result,edge),dtype = np.int)\n",
    "    return result"
   ]
  },
  {
   "cell_type": "code",
   "execution_count": 10,
   "metadata": {},
   "outputs": [],
   "source": [
    "def roof_gstep(emaxs, edges_o):\n",
    "    emax1,emax2,emax3 = np.copy(emaxs)\n",
    "    edges = np.copy(edges_o)\n",
    "    emax1[edges!=1]=0\n",
    "    emax2[edges!=1]=0\n",
    "    emax3[edges!=1]=0\n",
    "    \n",
    "    emax1[emax1<emax2]=1\n",
    "    emax1[emax1>=emax2]=0\n",
    "    \n",
    "    emax2[emax2<emax3]=1\n",
    "    emax2[emax2>=emax3]=0\n",
    "    \n",
    "    return np.array(np.logical_and(emax1,emax2),dtype = np.int)\n",
    "\n",
    "def roof(emaxs, edges_o):\n",
    "    emax1,emax2,emax3 = np.copy(emaxs)\n",
    "    edges = np.copy(edges_o)\n",
    "    emax1[edges!=1]=0\n",
    "    emax2[edges!=1]=0\n",
    "    emax3[edges!=1]=0\n",
    "    \n",
    "    emax1[emax1<emax2]=1\n",
    "    emax1[emax1>=emax2]=0\n",
    "    \n",
    "    emax2[emax2>emax3]=1\n",
    "    emax2[emax2<=emax3]=0\n",
    "    \n",
    "    return np.array(np.logical_and(emax1,emax2),dtype = np.int)\n",
    "\n",
    "def dirac_astep(emaxs, edges_o):\n",
    "    emax1,emax2,emax3 = np.copy(emaxs)\n",
    "    edges = np.copy(edges_o)\n",
    "    emax1[edges!=1]=0\n",
    "    emax2[edges!=1]=0\n",
    "    emax3[edges!=1]=0\n",
    "    \n",
    "    emax1[emax1>emax2]=1\n",
    "    emax1[emax1<=emax2]=0\n",
    "    \n",
    "    emax2[emax2>emax3]=1\n",
    "    emax2[emax2<=emax3]=0\n",
    "    \n",
    "    return np.array(np.logical_and(emax1,emax2),dtype = np.int)\n",
    "\n",
    "def blr_edges(emax1_o,rrg_o,thr):\n",
    "    emax1 =  np.copy(emax1_o)\n",
    "    rrg = np.copy(rrg_o)\n",
    "    \n",
    "    emax1[emax1<thr]=1\n",
    "    emax1[emax1>=thr]=0\n",
    "    emax1[rrg!=1]=0\n",
    "\n",
    "    return emax1"
   ]
  },
  {
   "cell_type": "code",
   "execution_count": 26,
   "metadata": {},
   "outputs": [
    {
     "name": "stdout",
     "output_type": "stream",
     "text": [
      "0.0 0.7932481772580957\n"
     ]
    },
    {
     "data": {
      "image/png": "[encoded data removed]",
      "text/plain": [
       "<Figure size 432x288 with 1 Axes>"
      ]
     },
     "metadata": {
      "needs_background": "light"
     },
     "output_type": "display_data"
    }
   ],
   "source": [
    "def blur_detection(path,thr=50):\n",
    "\n",
    "    img = open_img(path)\n",
    "    \n",
    "    ##etapa 1\n",
    "    emax1,emax2,emax3 = Emax(img,3)\n",
    "    \"\"\"\n",
    "    emax3r = np.copy(emax3)\n",
    "    h,w = emax3r.shape\n",
    "    emax1r = cv2.resize(emax1, dsize = (w,h),interpolation = cv2.INTER_NEAREST)\n",
    "    emax2r = cv2.resize(emax2, dsize = (w,h),interpolation = cv2.INTER_NEAREST)\n",
    "    \"\"\"\n",
    "\n",
    "    emax1r = np.copy(emax1)\n",
    "    h,w = emax1r.shape\n",
    "    emax2r = cv2.resize(emax2, dsize = (w,h),interpolation = cv2.INTER_NEAREST)\n",
    "    emax3r = cv2.resize(emax3, dsize = (w,h),interpolation = cv2.INTER_NEAREST)\n",
    " \n",
    "    ##etapa 2\n",
    "\n",
    "    edge1,edge2,edge3 = edges_points([emax1r,emax2r,emax3r],thr)\n",
    "    edges = OR([edge1,edge2,edge3])\n",
    "    Nedges = np.sum(edges)\n",
    "\n",
    "    ##etapa 3\n",
    "    dirac_a = dirac_astep([emax1r,emax2r,emax3r],edges)\n",
    "    Nda = np.sum(dirac_a)\n",
    "\n",
    "    ##etapa 4\n",
    "\n",
    "    roofe = roof([emax1r,emax2r,emax3r],edges)\n",
    "    roof_g = roof_gstep([emax1r,emax2r,emax3r],edges)\n",
    "    roof_roofg = OR([roofe,roof_g])\n",
    "    Nrg = np.sum(roof_roofg)\n",
    "   \n",
    "    ##etapa 5\n",
    "    blr = blr_edges(emax1r,roof_roofg,thr)\n",
    "    Nbrg = np.sum(blr)\n",
    "    plt.imshow(blr,cmap='gray')\n",
    "    \n",
    "    ##etapa 6\n",
    "    Per = Nda/Nedges\n",
    "    \n",
    "    ##etapa 7 \n",
    "    BlurExtend = Nbrg/Nrg\n",
    "    \n",
    "    return Per,BlurExtend\n",
    "\n",
    "per, blur_e = blur_detection('teste.jpg',35)\n",
    "print(per,blur_e)"
   ]
  },
  {
   "cell_type": "code",
   "execution_count": null,
   "metadata": {},
   "outputs": [],
   "source": []
  },
  {
   "cell_type": "code",
   "execution_count": null,
   "metadata": {},
   "outputs": [],
   "source": []
  },
  {
   "cell_type": "code",
   "execution_count": null,
   "metadata": {},
   "outputs": [],
   "source": []
  }
 ],
 "metadata": {
  "kernelspec": {
   "display_name": "Python 3",
   "language": "python",
   "name": "python3"
  },
  "language_info": {
   "codemirror_mode": {
    "name": "ipython",
    "version": 3
   },
   "file_extension": ".py",
   "mimetype": "text/x-python",
   "name": "python",
   "nbconvert_exporter": "python",
   "pygments_lexer": "ipython3",
   "version": "3.7.3"
  }
 },
 "nbformat": 4,
 "nbformat_minor": 4
}
